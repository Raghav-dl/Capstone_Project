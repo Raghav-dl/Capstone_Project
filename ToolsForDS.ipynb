{
  "nbformat": 4,
  "nbformat_minor": 0,
  "metadata": {
    "colab": {
      "name": "ToolsForDS.ipynb",
      "provenance": [],
      "collapsed_sections": []
    },
    "kernelspec": {
      "name": "python3",
      "display_name": "Python 3"
    },
    "language_info": {
      "name": "python"
    }
  },
  "cells": [
    {
      "cell_type": "markdown",
      "source": [
        "# My Jupyter Notebook on IBM Watson Studio"
      ],
      "metadata": {
        "id": "lvj9rthTCCk0"
      }
    },
    {
      "cell_type": "markdown",
      "source": [
        "**RAGHAV\n",
        "DATA SCIENTIST**"
      ],
      "metadata": {
        "id": "I7YcSlDNCmNU"
      }
    },
    {
      "cell_type": "markdown",
      "source": [
        "I'm interested in Data Science beacuse I'll gain a wide array of new skills that will allow me to leverage data to aid companies with their business strategies, and explore exciting new fields developing from within data science—fields like artificial intelligence, machine learning, big data, and more."
      ],
      "metadata": {
        "id": "TA_YyXM9DJ-Q"
      }
    },
    {
      "cell_type": "markdown",
      "source": [
        "My code is supposed to print my name and age"
      ],
      "metadata": {
        "id": "Wzz8KWVjD2bO"
      }
    },
    {
      "cell_type": "code",
      "source": [
        "print(\"My name is Raghav\");\n",
        "print(\"My age is 19\");"
      ],
      "metadata": {
        "colab": {
          "base_uri": "https://localhost:8080/"
        },
        "id": "WTGPZwbmDuWU",
        "outputId": "7f2b7fb5-990d-4e0d-a32a-43d7498e550e"
      },
      "execution_count": 1,
      "outputs": [
        {
          "output_type": "stream",
          "name": "stdout",
          "text": [
            "My name is Raghav\n",
            "My age is 19\n"
          ]
        }
      ]
    },
    {
      "cell_type": "markdown",
      "source": [
        "\n",
        "\n",
        "---\n",
        "\n",
        "\n",
        "\n",
        "1.   Numbered List item-1\n",
        "2.   Numbered List item-2\n",
        "\n",
        "*   Bulleted List item-1\n",
        "*   Bulleted List item-1\n",
        "\n",
        "\n",
        "\n"
      ],
      "metadata": {
        "id": "Ed3ntfB0FRS6"
      }
    }
  ]
}